{
 "cells": [
  {
   "cell_type": "markdown",
   "metadata": {},
   "source": [
    "# FileOrganizer Antonio Furioso"
   ]
  },
  {
   "cell_type": "markdown",
   "metadata": {},
   "source": [
    "Inizio con l'importare tutte le librerie che sono necessarie per lo step 1 e 3"
   ]
  },
  {
   "cell_type": "code",
   "execution_count": 1,
   "metadata": {},
   "outputs": [],
   "source": [
    "import os, csv, shutil\n",
    "import numpy as np\n",
    "from PIL import Image\n",
    "from tabulate import tabulate"
   ]
  },
  {
   "cell_type": "markdown",
   "metadata": {},
   "source": [
    "# Step 1"
   ]
  },
  {
   "cell_type": "markdown",
   "metadata": {},
   "source": [
    "Nel seguente step devo definire il tipo di file e prima di spostarlo nella cartella che determina la sua categoria (che deve essere creata automaticamente), devo stampare e scrivere le sue informazioni su file di recap.csv"
   ]
  },
  {
   "cell_type": "code",
   "execution_count": 2,
   "metadata": {},
   "outputs": [],
   "source": [
    "'''definisco una funzione per conoscere il tipo di file'''\n",
    "def tipo_file(filename):\n",
    "    \n",
    "    #Verifico se il file non è una cartella\n",
    "    if os.path.isdir(filename) == False:\n",
    "\n",
    "        #per ogni tipo di file indico le sue possibili estensioni\n",
    "        doc = ['.doc', '.txt', '.odt', '.docx', '.pdf']\n",
    "        image = ['.jpg','.jpeg','.png','.gif']\n",
    "        audio = ['.mp3','.wav']\n",
    "        \n",
    "        #utilizzo split per individuare l'estensione dei file\n",
    "        if os.path.splitext(filename)[1] in image:\n",
    "            return 'image'\n",
    "        elif os.path.splitext(filename)[1] in doc:\n",
    "            return 'doc'\n",
    "        elif os.path.splitext(filename)[1] in audio:\n",
    "            return 'audio'\n",
    "        else: #se il file non è in un formato leggibile o non elencato allora restituisce un errore\n",
    "            return 'Non leggibile'"
   ]
  },
  {
   "cell_type": "markdown",
   "metadata": {},
   "source": [
    "Creazione di una cartella in base al tipo di file:"
   ]
  },
  {
   "cell_type": "code",
   "execution_count": 3,
   "metadata": {},
   "outputs": [],
   "source": [
    "for file in os.listdir('C:\\\\Users\\\\anton\\\\Desktop\\\\FileOrganizer\\\\files\\\\'): #creo una cartella per ogni tipo di file\n",
    "    if file != 'recap.csv' and tipo_file(file) != 'Non leggibile':   #se il file non è un recap.csv e non è un file leggibile allora creo la cartella\n",
    "        try:\n",
    "            os.mkdir('C:\\\\Users\\\\anton\\\\Desktop\\\\FileOrganizer\\\\files\\\\'+tipo_file(file))   #crea la cartella del tipo di file iterato se non esiste\n",
    "        except:\n",
    "            FileExistsError #restituiamo un errore nel caso le precendenti istruzioni non vengano confermate"
   ]
  },
  {
   "cell_type": "markdown",
   "metadata": {},
   "source": [
    "Creiamo il file di recap.csv con prima riga che fa da header"
   ]
  },
  {
   "cell_type": "code",
   "execution_count": 4,
   "metadata": {},
   "outputs": [],
   "source": [
    "if 'recap.csv' not in os.listdir('C:\\\\Users\\\\anton\\\\Desktop\\\\FileOrganizer\\\\files\\\\'): #se il file di recap non esiste allora ne crea uno\n",
    "    with open ('C:\\\\Users\\\\anton\\\\Desktop\\\\FileOrganizer\\\\files\\\\recap.csv', 'w', newline='') as csvfile: #creiamo e apriamo il file per scriverci le info del file\n",
    "        filewriter = csv.writer(csvfile, delimiter = ',', quotechar = '|')\n",
    "        filewriter.writerow(['name', 'type', 'size(b)']) #questa sarà la prima riga del file\n"
   ]
  },
  {
   "cell_type": "markdown",
   "metadata": {},
   "source": [
    "Infine possiamo procedere nel stampare le informazini, scriverle sul file di recap e spostare i files nelle relative sottocartelle create"
   ]
  },
  {
   "cell_type": "code",
   "execution_count": 8,
   "metadata": {},
   "outputs": [],
   "source": [
    "for file in os.listdir('C:\\\\Users\\\\anton\\\\Desktop\\\\FileOrganizer\\\\files\\\\'):\n",
    "    if tipo_file(file) in os.listdir('C:\\\\Users\\\\anton\\\\Desktop\\\\FileOrganizer\\\\files\\\\'):\n",
    "        with open ('C:\\\\Users\\\\anton\\\\Desktop\\\\FileOrganizer\\\\files\\\\recap.csv', 'a', newline='') as csvfile: #aprimao il file così che sia pronto per la trascrizione\n",
    "            filewriter = csv.writer(csvfile, delimiter = ',', quotechar = '|')\n",
    "            print('name: '+ os.path.splitext(file)[0] + ' type: '+ tipo_file(file) + ' size: ' + str(os.path.getsize('C:\\\\Users\\\\anton\\\\Desktop\\\\FileOrganizer\\\\files\\\\'+file))+'B') #stampiamo le informazioni dei file\n",
    "            filewriter.writerow([os.path.splitext(file)[0], tipo_file(file), str(os.path.getsize('C:\\\\Users\\\\anton\\\\Desktop\\\\FileOrganizer\\\\files\\\\' + file)) + 'B']) #inseriamo le informazioni dei file nel file di recap.csv\n",
    "            shutil.move('C:\\\\Users\\\\anton\\\\Desktop\\\\FileOrganizer\\\\files\\\\' + file, 'C:\\\\Users\\\\anton\\\\Desktop\\\\FileOrganizer\\\\files\\\\' + tipo_file(file)) #spostiamo i file contenuti in files nelle relative cartelle"
   ]
  },
  {
   "cell_type": "markdown",
   "metadata": {},
   "source": [
    "# Step 3"
   ]
  },
  {
   "cell_type": "markdown",
   "metadata": {},
   "source": [
    "In questo step dobbiamo conoscere il colore e le dimensioni dei file nella cartella image (prima creata) e stamparle in tabella "
   ]
  },
  {
   "cell_type": "code",
   "execution_count": 6,
   "metadata": {},
   "outputs": [
    {
     "name": "stdout",
     "output_type": "stream",
     "text": [
      "╒══════════╤══════════╤═════════╤═════════════╤════════╤═══════╤═══════╤═════╕\n",
      "│ name     │   height │   width │   grayscale │      R │     G │     B │   A │\n",
      "╞══════════╪══════════╪═════════╪═════════════╪════════╪═══════╪═══════╪═════╡\n",
      "│ bw       │      512 │     512 │       21.48 │   0.00 │  0.00 │  0.00 │   0 │\n",
      "├──────────┼──────────┼─────────┼─────────────┼────────┼───────┼───────┼─────┤\n",
      "│ daffodil │      500 │     335 │        0.00 │ 109.25 │ 85.56 │  4.97 │   0 │\n",
      "├──────────┼──────────┼─────────┼─────────────┼────────┼───────┼───────┼─────┤\n",
      "│ trump    │      183 │     275 │        0.00 │  97.01 │ 98.99 │ 90.92 │   0 │\n",
      "╘══════════╧══════════╧═════════╧═════════════╧════════╧═══════╧═══════╧═════╛\n"
     ]
    }
   ],
   "source": [
    "listadariempire= []   #apriamo una lista vuota nel quale inseriremo i dati\n",
    "\n",
    "for image in os.listdir('C:\\\\Users\\\\anton\\\\Desktop\\\\FileOrganizer\\\\files\\\\image\\\\'): #prendiamo ogni immagine presente in cartella\n",
    "    nomi = [os.path.splitext(image)[0]]   #per identificare l'iimmagine ci serve il suo nome che andremo ad inserire come prima colonna nella tabella\n",
    "    img = Image.open('C:\\\\Users\\\\anton\\\\Desktop\\\\FileOrganizer\\\\files\\\\image\\\\'+image)   #apriamo le immagini utilizzando la libreria PIL\n",
    "    imgwnp = np.array(img)   #con numpy trasformiamo le immagini in degli array\n",
    "    vcolor = imgwnp.mean(axis=0).mean(axis=0) #prendiamo i valori dei colori presenti nelle immagini\n",
    "    nomi.extend([imgwnp.shape[0],imgwnp.shape[1]])   #aggiungiamo le dimensioni\n",
    "    if imgwnp.ndim == 2:   #assegnamo il numero di dimensioni 2 alla scala di grigio\n",
    "        nomi.extend([vcolor,0.00,0.,0.,0])\n",
    "    elif len(vcolor) == 3:   #assegnamo il numero di dimensioni 3 alla scala RGB\n",
    "        nomi.extend([0.,vcolor[0],vcolor[1],vcolor[2],0])\n",
    "    elif len(vcolor) == 4:   #assegnamo il numero di dimensioni 4 alla scala RGBA\n",
    "        nomi.extend([0.,vcolor[0],vcolor[1],vcolor[2],vcolor[3]])\n",
    "    listadariempire.append(nomi)   #aggiungiamo la lista a una lista\n",
    "\n",
    "print(tabulate(listadariempire, headers=['name','height','width','grayscale','R','G','B','A'], floatfmt='.2f',tablefmt='fancy_grid')) #infine stampiamo e creiamo l'header della nostra tabella"
   ]
  }
 ],
 "metadata": {
  "kernelspec": {
   "display_name": "Python 3",
   "language": "python",
   "name": "python3"
  },
  "language_info": {
   "codemirror_mode": {
    "name": "ipython",
    "version": 3
   },
   "file_extension": ".py",
   "mimetype": "text/x-python",
   "name": "python",
   "nbconvert_exporter": "python",
   "pygments_lexer": "ipython3",
   "version": "3.7.6"
  }
 },
 "nbformat": 4,
 "nbformat_minor": 4
}
